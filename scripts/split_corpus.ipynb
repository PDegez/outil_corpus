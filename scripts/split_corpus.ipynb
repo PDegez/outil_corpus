{
 "cells": [
  {
   "cell_type": "code",
   "execution_count": null,
   "id": "dc0564b6-f91c-4bd8-bb66-7a160a5cc91f",
   "metadata": {},
   "outputs": [],
   "source": [
    "\"\"\" script pour split un corpus chargé depuis un fichier json local en une partition tran et une partition test (70% et 30%)\"\"\""
   ]
  },
  {
   "cell_type": "code",
   "execution_count": 8,
   "id": "f1caf717-f96e-46d2-b9e2-cfee1f9613c2",
   "metadata": {},
   "outputs": [],
   "source": [
    "import json\n",
    "from sklearn.model_selection import train_test_split\n",
    "from pathlib import Path"
   ]
  },
  {
   "cell_type": "code",
   "execution_count": 9,
   "id": "9b1f7d8d-d02d-472a-9486-978d4cda600c",
   "metadata": {},
   "outputs": [],
   "source": [
    "def load_json(input_file:str) :\n",
    "    \"\"\"Open and read json file\n",
    "    \n",
    "    Parameters\n",
    "    ----------\n",
    "    input_file : str\n",
    "    \n",
    "    Returns\n",
    "    ---------\n",
    "    corpus as a dictionnary of dictionnaries\"\"\"\n",
    "    \n",
    "    with input_file.open(\"r\", encoding=\"utf-8\") as f:\n",
    "        data = json.load(f)\n",
    "    \n",
    "    return data"
   ]
  },
  {
   "cell_type": "markdown",
   "id": "8ace68fd-7768-47c1-a49f-a8ff4fa65b12",
   "metadata": {},
   "source": [
    "Chargement du corps et split du corpus avec scikitlearn :"
   ]
  },
  {
   "cell_type": "code",
   "execution_count": 10,
   "id": "8d6adf5a-e1f6-457d-81a4-673205f45508",
   "metadata": {},
   "outputs": [],
   "source": [
    "corpus_entier = load_json(Path(\"../data/clean/corpus_c_l_v1.json\"))[\"reviews\"][\"reviews\"]\n",
    "textes = [commentaire[\"review_body\"] for commentaire in corpus_entier]\n",
    "labels = [commentaire[\"score\"] for commentaire in corpus_entier]\n",
    "\n",
    "X_train, X_test, y_train, y_test = train_test_split(\n",
    "    textes, labels, test_size=0.3, random_state=0)"
   ]
  }
 ],
 "metadata": {
  "kernelspec": {
   "display_name": "Python 3 (ipykernel)",
   "language": "python",
   "name": "python3"
  },
  "language_info": {
   "codemirror_mode": {
    "name": "ipython",
    "version": 3
   },
   "file_extension": ".py",
   "mimetype": "text/x-python",
   "name": "python",
   "nbconvert_exporter": "python",
   "pygments_lexer": "ipython3",
   "version": "3.9.18"
  }
 },
 "nbformat": 4,
 "nbformat_minor": 5
}
