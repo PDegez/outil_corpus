{
 "cells": [
  {
   "cell_type": "code",
   "execution_count": 6,
   "id": "8d838586-083a-462a-8753-d0c085ff546c",
   "metadata": {
    "tags": []
   },
   "outputs": [
    {
     "data": {
      "text/plain": [
       "\"Ouvre un corpus json, et calcule la corrélation entre le nombre d'adjectifs dans un commentaire et son score, ainsi que la p-value de cette corrélation\""
      ]
     },
     "execution_count": 6,
     "metadata": {},
     "output_type": "execute_result"
    }
   ],
   "source": [
    "\"\"\"Ouvre un corpus json, et calcule la corrélation entre le nombre d'adjectifs dans un commentaire et son score, ainsi que la p-value de cette corrélation\"\"\""
   ]
  },
  {
   "cell_type": "code",
   "execution_count": 8,
   "id": "26185f17-7467-4752-b70a-ec95926f5063",
   "metadata": {
    "tags": []
   },
   "outputs": [],
   "source": [
    "import json\n",
    "#import spacy\n",
    "import scipy\n",
    "from pathlib import Path"
   ]
  },
  {
   "cell_type": "markdown",
   "id": "433dd6cc-fa5c-44bc-afb3-6d7cfc8b6ca9",
   "metadata": {},
   "source": [
    "# Fonction de chargement du corpus json depuis un fichier local :"
   ]
  },
  {
   "cell_type": "code",
   "execution_count": 9,
   "id": "3ee8d2dc-15da-4f4b-af91-a57b2340ad64",
   "metadata": {},
   "outputs": [],
   "source": [
    "def load_json(input_file:str) :\n",
    "    \"\"\"Open and read json file\n",
    "    \n",
    "    Parameters\n",
    "    ----------\n",
    "    input_file : str\n",
    "    \n",
    "    Returns\n",
    "    ---------\n",
    "    corpus as a dictionnary of dictionnaries\"\"\"\n",
    "    \n",
    "    with input_file.open(\"r\", encoding=\"utf-8\") as f:\n",
    "        data = json.load(f)\n",
    "    \n",
    "    return data"
   ]
  },
  {
   "cell_type": "markdown",
   "id": "ade63132-b036-4bd5-8032-490153ca5835",
   "metadata": {},
   "source": [
    "# Chargement du corpus et exemple de review et ses métadata dans le corpus :"
   ]
  },
  {
   "cell_type": "code",
   "execution_count": 10,
   "id": "7e22f2d3-7a0c-41e7-b5fd-431b96a51ec5",
   "metadata": {},
   "outputs": [
    {
     "name": "stdout",
     "output_type": "stream",
     "text": [
      "{'customer_id': '76561197990951542', 'helpful_vote': 3430, 'product_id': '1716740', 'product_title': 'Starfield', 'review_body': '77hrs in : \" finish \" starfield . \\n\\n now , it have a ng+ mode which be intriguing , so I be actually still play it ... but the story actively encourage you to finish it multiple time .. and restart over and over and over , which be ... curious . so I be onboard . \\n\\n I be still on the fence about the title as a whole . \\n\\n enjoy it ? yes , very much . \\n\\n but it be hard to compare to previous title ( such as Fallout4 ) because I end up play those in a heavily modde state , which skew my memory of the raw , unmodded game . \\n\\n Starfield be currently raw and unmodded . it be an RPG . it be a story . it be not about exploration , space flight , or space trucking . it be an adventure . it have a story and you be a participant . \\n\\n the Bethesda feel be here in spade , and that include a clunky interface with awful / useless filter and option ( gadamn Bethesda , will you grow up and modernize this already ? jesus ) \\n\\n there be some bug . even after a year of testing , I have encounter a couple of showstopper . there be some annoying quirk I be surprised do not get address in the 1 year of polish they go through . \\n\\n I think Bethesda have also back themselves into a corner with their Creation Engine 2 . it be essentially the same architecture as CE # 1 , with all the same limitation . the concept of \\' cell \\' for build transition , or area transition be ... old . so to completely rebuild their engine , but to do so in a way that have a old , outdated architecture be a weird decision that I think will box they in for the decade to come . all of their future game may be \" well \" , but they will all \" feel old \" . \\n\\n move into a building ? loading screen . \\n move out ? loading screen . \\n board ship ? loading screen . \\n take off form the planet ? loading screen . \\n fly to another system ? loading screen . \\n fly to another planet ? loading screen \\n Land ? loading screen . \\n enter the mining facility ? loading screen . \\n room inside the facility ? loading screen . \\n\\n it end up feel very much like a series of interconnect \\' cell \\' where you get to do thing before you transition to the next cell . \\n\\n and in a world where game have demonstrate the ability to transition more smoothly - even invisibly - I question why Bethesda have hang their hat on such an archaic way of do thing . \\n\\n it make their large game yet feel \" small \" . \\n\\n blast across the universe across multiple planetary system be ... a loading screen . and I be not talk about the ability to fast travel and skip everything , but simply go from A->B be ... a loading screen . every time . \\n\\n there be no planetary exploration and anyone who say otherwise be misguide . planet be procedurally generate . you land in a cell . that cell have boundary . that cell will be populate with a very limited set of re - use poi ( one day I get the same POI 3 time ) . \\n\\n the novelty of the first exploration morph into routine as you realize that basically you have land in a medium sized procedurally generate terrain cell with half a dozen random thing throw in it for you to walk to and explore . it feel like a sandbox a dev might make up as a proof of concept . \\n\\n want to move a little furth \\' east \\' to explore more ? take off ( loading ) click a new area , land ( loading ) and you get a new cell with a sprinkle of poi in it . enjoy . \\n\\n and far , far , far too much of the \\' quest structure \\' be fetch quest , and I will fight anyone who disagree with I on that . faaaaaaaaaaaaaaar too many fetch - style quest . heck , the main effing story be a fetch quest . explore a planet be a fetch quest , where you do not know where anything be and you might spend 2 hrs try to figure out where that last \" 1 fauna of 9 \" be locate ... while eff walk everywhere . Te - di - ous . \\n\\n I have always feel that Bethesda create great experience , and even well foundation for modder to go nuts with , and it be the modded experience that really make it for I . \\n\\n here Starfield absolutely and firmly fall into that camp . it be a great foundation for what be to come . \\n do not get I wrong , I have be enjoy the experience and I will continue to do so , but I be look forward to mod buff out the Bethesda quirk and menu annoyance , and hopefully some reason to build an outpost ( because right now there be not one ) . \\n\\n currently ... I think I will give this a 6.5 or 7 out of 10 . top .', 'review_date': '2023-09-11 23:48:12', 'review_id': '146138594', 'score': 1, 'steam_purchase': True, 'received_for_free': False}\n"
     ]
    }
   ],
   "source": [
    "corpus = load_json(Path(\"../data/clean/corpus_c_l_v1.json\"))\n",
    "\n",
    "# exemple de commentaire avec ses métadata :\n",
    "print(corpus[\"reviews\"][\"reviews\"][0])"
   ]
  },
  {
   "cell_type": "markdown",
   "id": "4f46e4fe-e5ff-43cd-a444-9bd9f6e9b6cd",
   "metadata": {},
   "source": [
    "# Fonction pour extraire le nombre d adjectifs dans une review, en utilisant spacy"
   ]
  },
  {
   "cell_type": "code",
   "execution_count": null,
   "id": "0799612e-435d-4aea-b3d4-3f4dd608c991",
   "metadata": {},
   "outputs": [],
   "source": [
    "def get_nb_adj(review:str, nlp) :\n",
    "    \"\"\"get the number of adjectives in a text\n",
    "    \n",
    "    Parameters\n",
    "    ----------\n",
    "    review : str\n",
    "    nlp : spacy language model, preloaded before the function\n",
    "    \n",
    "    Returns :\n",
    "    ----------\n",
    "    integer\"\"\"\n",
    "    \n",
    "    analyse = nlp(review)\n",
    "    nb = len([token.pos_ for token in analyse if token.pos_ != \"ADJ\"])\n",
    "    \n",
    "    return nb"
   ]
  },
  {
   "cell_type": "markdown",
   "id": "2db6f322-a991-485c-bfba-de67f5a61760",
   "metadata": {},
   "source": [
    "# Calcul de la corrélation\n",
    "## Corrélation entre score et nombre d'adjectifs dans la review, ainsi que la p_value correspondante\n",
    "\n",
    "Le modèle langagier de spacy est chargé en dehors de la fonction afin d eviter de répéter inutilement cette étape."
   ]
  },
  {
   "cell_type": "code",
   "execution_count": 11,
   "id": "4145a1c4-5e9a-4165-96b0-29761ed81546",
   "metadata": {},
   "outputs": [
    {
     "ename": "NameError",
     "evalue": "name 'spacy' is not defined",
     "output_type": "error",
     "traceback": [
      "\u001b[0;31m---------------------------------------------------------------------------\u001b[0m",
      "\u001b[0;31mNameError\u001b[0m                                 Traceback (most recent call last)",
      "Cell \u001b[0;32mIn[11], line 2\u001b[0m\n\u001b[1;32m      1\u001b[0m \u001b[38;5;66;03m# Récupération des valeurs\u001b[39;00m\n\u001b[0;32m----> 2\u001b[0m nlp \u001b[38;5;241m=\u001b[39m \u001b[43mspacy\u001b[49m\u001b[38;5;241m.\u001b[39mload(\u001b[38;5;124m\"\u001b[39m\u001b[38;5;124men_core_web_sm\u001b[39m\u001b[38;5;124m\"\u001b[39m)\n\u001b[1;32m      3\u001b[0m nb_adj \u001b[38;5;241m=\u001b[39m []\n\u001b[1;32m      4\u001b[0m scores \u001b[38;5;241m=\u001b[39m []\n",
      "\u001b[0;31mNameError\u001b[0m: name 'spacy' is not defined"
     ]
    }
   ],
   "source": [
    "nlp = spacy.load(\"en_core_web_sm\")\n",
    "nb_adj = []\n",
    "scores = []\n",
    "\n",
    "for review in corpus[\"reviews\"][\"reviews\"]:\n",
    "    nb_adj.append(get_nb_adj(review[\"review_body\"], nlp))\n",
    "    scores.append(review[\"score\"])\n",
    "\n",
    "print(scipy.stats.pearsonr(scores, nb_adj))"
   ]
  },
  {
   "cell_type": "markdown",
   "id": "475d5830-b836-46c7-93b0-007ce53c857c",
   "metadata": {},
   "source": [
    "Il y a une légère corrélation négative, cependant la pvalue indique que ce résultat n atteint pas le seuil de significativité minimum requis en sciences humaines (0.05)\n",
    "et ne devrait donc pas être exploité."
   ]
  },
  {
   "cell_type": "markdown",
   "id": "ea2c1bfb-e252-4d23-a911-7bde12e58e9c",
   "metadata": {},
   "source": [
    "## Corrélation entre \"helpful votes\" et longueur des commentaires :"
   ]
  },
  {
   "cell_type": "code",
   "execution_count": 13,
   "id": "cf7f01b6-deaa-41b4-a43d-abf3a278e184",
   "metadata": {},
   "outputs": [
    {
     "name": "stdout",
     "output_type": "stream",
     "text": [
      "PearsonRResult(statistic=0.19998344996402967, pvalue=0.16378867474048253)\n"
     ]
    }
   ],
   "source": [
    "nb_mots = []\n",
    "nb_helpful = []\n",
    "\n",
    "for review in corpus[\"reviews\"][\"reviews\"]:\n",
    "    nb_mots.append(len(review[\"review_body\"].split(\" \")))\n",
    "    nb_helpful.append(review[\"helpful_vote\"])\n",
    "\n",
    "print(scipy.stats.pearsonr(nb_helpful, nb_mots))"
   ]
  },
  {
   "cell_type": "markdown",
   "id": "be42d942-81f9-410a-aad2-868affb3f7b8",
   "metadata": {},
   "source": [
    "Il y a une légère corrélation positive, cependant la p-value indique que ce résultat n'atteint par le seuil de significativité minimum requis en sciences humaines (0.05) et ne devrait donc pas être exploité."
   ]
  }
 ],
 "metadata": {
  "kernelspec": {
   "display_name": "Python 3 (ipykernel)",
   "language": "python",
   "name": "python3"
  },
  "language_info": {
   "codemirror_mode": {
    "name": "ipython",
    "version": 3
   },
   "file_extension": ".py",
   "mimetype": "text/x-python",
   "name": "python",
   "nbconvert_exporter": "python",
   "pygments_lexer": "ipython3",
   "version": "3.9.18"
  }
 },
 "nbformat": 4,
 "nbformat_minor": 5
}
