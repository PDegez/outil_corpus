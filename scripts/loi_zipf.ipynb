{
 "cells": [
  {
   "cell_type": "code",
   "execution_count": 1,
   "id": "f0408e3a-30a7-4b3d-8b45-ce45a0987cc1",
   "metadata": {},
   "outputs": [
    {
     "data": {
      "text/plain": [
       "'Trace la courbe de la loi de Zipf à partir du corpus'"
      ]
     },
     "execution_count": 1,
     "metadata": {},
     "output_type": "execute_result"
    }
   ],
   "source": [
    "\"\"\"Trace la courbe de la loi de Zipf à partir du corpus\"\"\""
   ]
  },
  {
   "cell_type": "code",
   "execution_count": 18,
   "id": "258e5837-736b-41da-b4f7-eb5f6a3d4e8e",
   "metadata": {},
   "outputs": [],
   "source": [
    "import spacy\n",
    "import json\n",
    "from collections import Counter\n",
    "from pathlib import Path\n",
    "from visualization.ipynb import load_json\n",
    "import matplotlib.pyplot as plt"
   ]
  },
  {
   "cell_type": "markdown",
   "id": "cea12ffd-394d-43ce-a6eb-64473d366254",
   "metadata": {
    "tags": []
   },
   "source": [
    "# Fonction d'importation du corpus lemmatisé depuis un fichier json local:"
   ]
  },
  {
   "cell_type": "code",
   "execution_count": null,
   "id": "3c5f15fe-d369-41e6-ad9e-2300b3a32f09",
   "metadata": {},
   "outputs": [
    {
     "name": "stdout",
     "output_type": "stream",
     "text": [
      "{'customer_id': '76561197990951542', 'helpful_vote': 3430, 'product_id': '1716740', 'product_title': 'Starfield', 'review_body': '77hrs in: \"finished\" starfield.\\n\\nNow, it has a NG+ mode which is intriguing, so I\\'m actually still playing it ... but the story actively encourages you to finish it multiple times .. and restart over and over and over, which is ... curious. So I\\'m onboard.\\n\\nI\\'m still on the fence about the title as a whole.\\n\\nEnjoying it? Yes, very much.\\n\\nBut it\\'s hard to compare to previous titles (such as Fallout4) because I ended up playing those in a heavily modded state, which skews my memory of the raw, unmodded game.\\n\\nStarfield is currently raw and unmodded. It is an RPG. It\\'s a story. It\\'s not about exploration, space flight, or space trucking. It\\'s an adventure. It has a story and you are a participant.\\n\\nThe Bethesda feel is here in spades, and that includes a clunky interface with awful/useless filters and options (gadamn Bethesda, will you grow up and modernize this already? jesus)\\n\\nThere are some bugs. Even after a year of testing, I have encountered a couple of showstoppers. There are some annoying quirks I am surprised did not get addressed in the 1 year of polish they went through.\\n\\nI think Bethesda has also backed themselves into a corner with their Creation Engine 2. It\\'s essentially the same architecture as CE #1, with all the same limitations. The concept of \\'cells\\' for building transitions, or area transitions is ... old. So to completely rebuild their engine, but to do so in a way that has a old, outdated architecture was a weird decision that I think will box them in for the decade to come. All of their future games may be \"better\", but they will all \"feel old\".\\n\\nMove into a building? loading screen.\\nmove out? loading screen.\\nboard ship? loading screen.\\nTake off form the planet? loading screen.\\nFly to another system? loading screen.\\nFly to another planet? loading screen\\nLand? loading screen.\\nEnter the mining facility? loading screen.\\nRoom inside the facility? loading screen.\\n\\nIt ends up feeling very much like a series of interconnected \\'cells\\' where you get to do things before you transition to the next cell.\\n\\nAnd in a world where games have demonstrated the ability to transition more smoothly - even invisibly - I question why Bethesda has hung their hat on such an archaic way of doing things.\\n\\nIt makes their largest game yet feel \"small\". \\n\\nBlasting across the universe across multiple planetary systems is ... a loading screen. And I\\'m not talking about the ability to fast travel and skip everything, but simply going from A->B is ... a loading screen. Every time. \\n\\nThere is no planetary exploration and anyone who says otherwise is misguided. Planets are procedurally generated. You land in a cell. That cell has boundaries. That cell will be populated with a very limited set of re-used POIs (One day I got the same POI 3 times).\\n\\nThe novelty of the first exploration morphs into routine as you realize that basically you have landed in a medium sized procedurally generated terrain cell with half a dozen random things throw in it for you to walk to and explore. It feels like a sandbox a dev might make up as a proof of concept. \\n\\nWant to move a little further \\'east\\' to explore more? take off (loading) click a new area, land (loading) and you get a new cell with a sprinkle of POIs in it. Enjoy.\\n\\nAnd far, far, far too much of the \\'quest structure\\' are fetch quests, and I will fight anyone who disagrees with me on that. Faaaaaaaaaaaaaaar too many fetch-style quests. Heck, the main effing story is a fetch quest. Exploring a planet is a fetch quest, where you don\\'t know where anything is and you might spend 2 hrs trying to figure out where that last \"1 fauna of 9\" is located ... while effing walking everywhere. Te - di - ous.\\n\\nI have always felt that Bethesda creates great experiences, and even better foundations for modders to go nuts with, and it\\'s the modded experience that really makes it for me.\\n\\nHere Starfield absolutely and firmly falls into that camp. It is a great foundation for what is to come.\\nDon\\'t get me wrong, I have been enjoying the experience and I will continue to do so, but I am looking forward to mods buffing out the Bethesda quirks and menu annoyances, and hopefully some reason to build an outpost (because right now there isn\\'t one).\\n\\nCurrently ... I think I will give this a 6.5 or 7 out of 10. Tops.', 'review_date': '2023-09-11 23:48:12', 'review_id': '146138594', 'score': 1, 'steam_purchase': True, 'received_for_free': False}\n"
     ]
    }
   ],
   "source": [
    "def load_json(input_file:str) :\n",
    "    \"\"\"Open and read json file\n",
    "    \n",
    "    Parameters\n",
    "    ----------\n",
    "    input_file : str\n",
    "    \n",
    "    Returns\n",
    "    ---------\n",
    "    corpus as a dictionnary of dictionnaries\"\"\"\n",
    "    \n",
    "    with input_file.open(\"r\", encoding=\"utf-8\") as f:\n",
    "        data = json.load(f)\n",
    "    \n",
    "    return data\n",
    "\n",
    "data = load_json(Path(\"../data/raw/corpus_v1.json\"))\n",
    "print(data[\"reviews\"][0])"
   ]
  },
  {
   "cell_type": "markdown",
   "id": "1d5a3234-21fc-4992-b66d-75401a265a3d",
   "metadata": {},
   "source": [
    "# Fonction pour extraire les lemmes d'un texte en excluant la ponctuation"
   ]
  },
  {
   "cell_type": "code",
   "execution_count": 20,
   "id": "fcd40c96-d7ba-4013-af25-591fecb274bd",
   "metadata": {},
   "outputs": [],
   "source": [
    "nlp = spacy.load(\"en_core_web_sm\")\n",
    "\n",
    "def get_words_lemmas(review:str, nlp) :\n",
    "    \"\"\"extrait les lemmes d'un texte en excluant les ponctuations\n",
    "    \n",
    "    Parameters\n",
    "    ----------\n",
    "    review : str\n",
    "    nlp : spacy language model, preloaded before the function\n",
    "    \n",
    "    Returns :\n",
    "    ----------\n",
    "    list of lemmas without punctuations.\"\"\"\n",
    "    \n",
    "    analyse = nlp(review)\n",
    "    lemmas = [token.lemma_ for token in analyse if token.pos_ != \"PUNCT\"]\n",
    "    \n",
    "    return lemmas\n",
    "    "
   ]
  },
  {
   "cell_type": "markdown",
   "id": "5791bb83-7495-4953-8af6-702b5bb227e3",
   "metadata": {},
   "source": [
    "# Plot de la loi de Zipf à partir des lemmes du corpus:"
   ]
  },
  {
   "cell_type": "code",
   "execution_count": 29,
   "id": "e08996b3-05d5-4dfa-8a99-43c48bc634e4",
   "metadata": {},
   "outputs": [
    {
     "data": {
      "image/png": "[encoded data removed]",
      "text/plain": [
       "<Figure size 640x480 with 1 Axes>"
      ]
     },
     "metadata": {},
     "output_type": "display_data"
    }
   ],
   "source": [
    "# calcul des fréquences des lemmes extraits par spacy, en excluant les ponctuations\n",
    "lemmas_total = []\n",
    "for review in data[\"reviews\"]:\n",
    "    lemmas_total = lemmas_total + get_words_lemmas(review[\"review_body\"], nlp)\n",
    "    \n",
    "frequences = sorted(dict(Counter(lemmas_total)).items(), key=lambda x: x[1], reverse=True)\n",
    "lemmas_etiquettes = [lemma[0] for lemma in frequences]\n",
    "lemmas_freq = [freq[1] for freq in frequences]\n",
    "\n",
    "# Génération du plot : 500 mots les plus fréquents pour rendre le graph plus lisible\n",
    "x_max = list(range(len(lemmas_etiquettes[0:500])))\n",
    "\n",
    "plt.plot(x_max, lemmas_freq[0:500], label=\"Frequences des mots\")\n",
    "\n",
    "plt.title('Loi de Zif')\n",
    "plt.xlabel('Mots')\n",
    "plt.ylabel('Fréquence des mots')\n",
    "plt.legend()\n",
    "\n",
    "plt.grid(True)\n",
    "plt.show()"
   ]
  },
  {
   "cell_type": "code",
   "execution_count": null,
   "id": "4d3060b5-f707-4028-b11a-dfd1374be57a",
   "metadata": {},
   "outputs": [],
   "source": []
  },
  {
   "cell_type": "code",
   "execution_count": null,
   "id": "a87e9d54-b07d-492b-b981-fdb93ab9731b",
   "metadata": {},
   "outputs": [],
   "source": []
  }
 ],
 "metadata": {
  "kernelspec": {
   "display_name": "Python 3 (ipykernel)",
   "language": "python",
   "name": "python3"
  },
  "language_info": {
   "codemirror_mode": {
    "name": "ipython",
    "version": 3
   },
   "file_extension": ".py",
   "mimetype": "text/x-python",
   "name": "python",
   "nbconvert_exporter": "python",
   "pygments_lexer": "ipython3",
   "version": "3.9.18"
  }
 },
 "nbformat": 4,
 "nbformat_minor": 5
}
